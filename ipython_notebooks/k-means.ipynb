{
 "cells": [
  {
   "cell_type": "markdown",
   "metadata": {},
   "source": [
    "# Understanding K-Means Clustering Algorithm\n",
    "#### Kathirmani Sukumar  (Data Scientist @Gramener, [www.skathirmani.com](http://skathirmani.com))\n",
    "\n",
    "This article is primarily based on [this](http://dni-institute.in/blogs/k-means-clustering-algorithm-explained/)\n",
    "\n",
    "To be added\n",
    "* How to classify new data after fitting\n",
    "* How to check the accuracy of the model\n",
    "* How to fine tune the parameters for better results\n",
    "\n",
    "#### Note\n",
    "Please reach out to me if you have any suggestions or if there is any issues"
   ]
  },
  {
   "cell_type": "code",
   "execution_count": 1,
   "metadata": {
    "collapsed": false
   },
   "outputs": [],
   "source": [
    "import time\n",
    "%matplotlib inline\n",
    "import numpy as np\n",
    "from IPython import display\n",
    "import matplotlib.pyplot as plt\n",
    "from sklearn.cluster import KMeans"
   ]
  },
  {
   "cell_type": "markdown",
   "metadata": {},
   "source": [
    "Lets simulate two set of clusters `cluster_1` and `cluster_2` with different averages. If we look at the plot below, we can observe that there are two set of clusters."
   ]
  },
  {
   "cell_type": "code",
   "execution_count": 2,
   "metadata": {
    "collapsed": false
   },
   "outputs": [
    {
     "data": {
      "text/plain": [
       "[<matplotlib.lines.Line2D at 0x7f2b58958110>]"
      ]
     },
     "execution_count": 2,
     "metadata": {},
     "output_type": "execute_result"
    },
    {
     "data": {
      "image/png": "[encoded data removed]",
      "text/plain": [
       "<matplotlib.figure.Figure at 0x7f2b84196710>"
      ]
     },
     "metadata": {},
     "output_type": "display_data"
    }
   ],
   "source": [
    "cluster_1 = np.random.normal(10, 5, 10)\n",
    "cluster_2 = np.random.normal(100, 10, 10)\n",
    "data = np.hstack([cluster_1, cluster_2])\n",
    "timestamp = range(len(data))\n",
    "fig = plt.figure()\n",
    "plt.plot(timestamp, data, 'bo')"
   ]
  },
  {
   "cell_type": "markdown",
   "metadata": {
    "collapsed": true
   },
   "source": [
    "First lets use the `k-means` algorithm from `sklearn.cluster`. All we need to do is to initialize `KMean` class with number of clusters we want. Deciding the number of clusters is the very important aspect. Clustering results will be primarily driven by this parameter. Later we will see how to optimally decide the number of clusters. As of now lets go with 2 clusters. Once we have instance of `KMeans`, we need to pass the data with the timestamp to `kmean.fit`."
   ]
  },
  {
   "cell_type": "code",
   "execution_count": 3,
   "metadata": {
    "collapsed": false
   },
   "outputs": [],
   "source": [
    "data_kmeans = np.column_stack([timestamp, data])\n",
    "kmeans = KMeans(n_clusters=2)\n",
    "fit = kmeans.fit(data_kmeans)"
   ]
  },
  {
   "cell_type": "markdown",
   "metadata": {},
   "source": [
    "Thats its...!!! We have computed the centroids for the clusters. Since we initiated the kmeans instance with 2 clusters, we should have two centroids. The `x` & `y` co-ordinates values of these two centroids can be retrieved using `kmeans.cluster_centers_`. "
   ]
  },
  {
   "cell_type": "code",
   "execution_count": 4,
   "metadata": {
    "collapsed": false
   },
   "outputs": [
    {
     "data": {
      "text/plain": [
       "array([[ 14.5       ,  99.72184279],\n",
       "       [  4.5       ,  10.59306358]])"
      ]
     },
     "execution_count": 4,
     "metadata": {},
     "output_type": "execute_result"
    }
   ],
   "source": [
    "centroids_sklearn = kmeans.cluster_centers_\n",
    "centroids_sklearn"
   ]
  },
  {
   "cell_type": "markdown",
   "metadata": {},
   "source": [
    "To better understand the results of k-means, we can add these centroids to the plot we created earlier"
   ]
  },
  {
   "cell_type": "code",
   "execution_count": 5,
   "metadata": {
    "collapsed": false
   },
   "outputs": [
    {
     "data": {
      "text/plain": [
       "[<matplotlib.lines.Line2D at 0x7f2b58660c50>]"
      ]
     },
     "execution_count": 5,
     "metadata": {},
     "output_type": "execute_result"
    },
    {
     "data": {
      "image/png": "[encoded data removed]",
      "text/plain": [
       "<matplotlib.figure.Figure at 0x7f2b58938910>"
      ]
     },
     "metadata": {},
     "output_type": "display_data"
    }
   ],
   "source": [
    "plt.plot(timestamp, data, 'bo')\n",
    "plt.plot(centroids_sklearn[0][0], centroids_sklearn[0][1], 'rx', mew=12, ms=2)\n",
    "plt.plot(centroids_sklearn[1][0], centroids_sklearn[1][1], 'cx', mew=12, ms=2)"
   ]
  },
  {
   "cell_type": "markdown",
   "metadata": {},
   "source": [
    "### K-Means from the scratch\n",
    "Lets try to write the code for k-means algorithm from scratch. Remember this will work only for two dimension. And also it is just an attempt to understand the algorithm programatically. It doesn't handle any edge cases.\n",
    "\n",
    "The below piece of code is based on the following approach\n",
    "\n",
    "* Initialize the initial centroids. In our case we are taking the minimum and maximum data point that is available in the data.\n",
    "* Follow these steps for each data point:\n",
    "    * Calculate the euclidean distance between the data point and each centroid separately\n",
    "    * Identify the nearest centroid and categorize the data point under respective cluster\n",
    "    * Recalucate the centroids by computing the average of the datapoints under each cluster\n",
    "* After looping in to all the data points, we will have the updated and final centriods for each cluster\n",
    "\n",
    "Run the below cell, to see how the centroids are moving for each iteration."
   ]
  },
  {
   "cell_type": "code",
   "execution_count": 10,
   "metadata": {
    "collapsed": false
   },
   "outputs": [
    {
     "data": {
      "image/png": "[encoded data removed]",
      "text/plain": [
       "<matplotlib.figure.Figure at 0x7f2b57ef8c90>"
      ]
     },
     "metadata": {},
     "output_type": "display_data"
    }
   ],
   "source": [
    "euc_distance = lambda x, y, centroid: np.sqrt((x-centroid[0])**2 + (y-centroid[1])**2)\n",
    "update_avgs = lambda buc: [ np.mean([int(i[0]) for i in buc]), np.mean([int(i[1]) for i in buc])]\n",
    "\n",
    "plt.plot(data, 'bo')\n",
    "plt.locator_params(axis='x',nbins=10)\n",
    "\n",
    "\n",
    "centroids = [(0,min(data)), (20,max(data))] #Initialize the centroids\n",
    "bucket_1, bucket_2 = [], [] #Empty buckets for each cluster. \n",
    "\n",
    "\n",
    "for x, y in enumerate(data):\n",
    "    euc_dist1 = euc_distance(x, y, centroids[0]) # Calc euclidean distance between (x,y) and first centroid\n",
    "    euc_dist2 = euc_distance(x, y, centroids[1]) # Calc euclidean distance between (x,y) and second centroid\n",
    "    \n",
    "    # Append the data point to the closest centroid\n",
    "    if euc_dist1 < euc_dist2:\n",
    "        bucket_1.append((x, y))\n",
    "    else:\n",
    "        bucket_2.append((x, y))\n",
    "        \n",
    "    # Recalucate the centroids\n",
    "    if len(bucket_1):\n",
    "        centroids[0] = update_avgs(bucket_1)\n",
    "    if len(bucket_2):\n",
    "        centroids[1] = update_avgs(bucket_2)\n",
    "    \n",
    "    \n",
    "    # Animate how the mean for each cluster is changing\n",
    "    for i, centroid in enumerate(centroids):\n",
    "        plt.plot(centroid[0], centroid[1], 'cx' if i==0 else 'rx', mew=12, ms=2)\n",
    "        plt.plot([centroid[0],centroid[0]], [-20, 140], \n",
    "                 color='c' if i==0 else 'r' ,\n",
    "                 linestyle='-', linewidth=0.5)\n",
    "        display.clear_output(wait=True)\n",
    "        display.display(plt.gcf())\n",
    "        time.sleep(0.1)\n",
    "display.clear_output(wait=True)\n"
   ]
  },
  {
   "cell_type": "markdown",
   "metadata": {},
   "source": [
    "If we compare the centroids which we got via `sklearn.cluster` and the one via the above manual method, there is a slight difference. This is because the initial centroids assumptions are different. Using `sklearn.cluster`, we let the algorithm decide the initial clusters. Whereas with the manual approach, we took the minimum and maximum data point. Hence the cluster initial assumption plays a vital role."
   ]
  },
  {
   "cell_type": "code",
   "execution_count": 7,
   "metadata": {
    "collapsed": false
   },
   "outputs": [
    {
     "name": "stdout",
     "output_type": "stream",
     "text": [
      "[[ 14.5         99.72184279]\n",
      " [  4.5         10.59306358]]\n",
      "[[4.5, 10.199999999999999], [14.5, 99.099999999999994]]\n"
     ]
    }
   ],
   "source": [
    "print centroids_sklearn\n",
    "print centroids"
   ]
  },
  {
   "cell_type": "markdown",
   "metadata": {},
   "source": [
    "### To be added\n",
    "* How to classify new data after fitting\n",
    "* How to check the accuracy of the model\n",
    "* How to fine tune the parameters for better results"
   ]
  }
 ],
 "metadata": {
  "kernelspec": {
   "display_name": "Python 2",
   "language": "python",
   "name": "python2"
  },
  "language_info": {
   "codemirror_mode": {
    "name": "ipython",
    "version": 2
   },
   "file_extension": ".py",
   "mimetype": "text/x-python",
   "name": "python",
   "nbconvert_exporter": "python",
   "pygments_lexer": "ipython2",
   "version": "2.7.11"
  }
 },
 "nbformat": 4,
 "nbformat_minor": 0
}
