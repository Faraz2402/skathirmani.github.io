{
 "cells": [
  {
   "cell_type": "markdown",
   "metadata": {},
   "source": [
    "# Telling simple stories from data - Where to start?\n",
    "\n",
    "Are you a data enthusiast? wondering where to start and how to start telling stories from data?. Though story telling is a art and demands more creativity, there are some common analysis which can be carried out with any data set. This article just helps you with those type of common analysis. "
   ]
  },
  {
   "cell_type": "code",
   "execution_count": 18,
   "metadata": {
    "collapsed": true
   },
   "outputs": [],
   "source": [
    "%matplotlib inline\n",
    "import numpy as np\n",
    "import pandas as pd\n",
    "from itertools import cycle, islice"
   ]
  },
  {
   "cell_type": "markdown",
   "metadata": {},
   "source": [
    "### Look at your data\n",
    "Its a very crucial part. You need to know and get a feel about the data. In this article we will looking at one day international cricket matches data. Each row in this data set is about the runs scored by a player in a particular match. Likewise we have data for scores of individual players frm all international players. "
   ]
  },
  {
   "cell_type": "code",
   "execution_count": 25,
   "metadata": {
    "collapsed": false
   },
   "outputs": [
    {
     "data": {
      "text/html": [
       "<div>\n",
       "<table border=\"1\" class=\"dataframe\">\n",
       "  <thead>\n",
       "    <tr style=\"text-align: right;\">\n",
       "      <th></th>\n",
       "      <th>Country</th>\n",
       "      <th>Player</th>\n",
       "      <th>Runs</th>\n",
       "      <th>ScoreRate</th>\n",
       "      <th>MatchDate</th>\n",
       "      <th>Weekday</th>\n",
       "      <th>Ground</th>\n",
       "      <th>Versus</th>\n",
       "      <th>URL</th>\n",
       "    </tr>\n",
       "  </thead>\n",
       "  <tbody>\n",
       "    <tr>\n",
       "      <th>0</th>\n",
       "      <td>Afghanistan</td>\n",
       "      <td>Mohammad Shahzad</td>\n",
       "      <td>118</td>\n",
       "      <td>97.52</td>\n",
       "      <td>2010-02-16</td>\n",
       "      <td>Tue</td>\n",
       "      <td>Sharjah CA Stadium</td>\n",
       "      <td>Canada</td>\n",
       "      <td>../Matches/MatchScorecard_ODI.asp?MatchCode=3087</td>\n",
       "    </tr>\n",
       "    <tr>\n",
       "      <th>1</th>\n",
       "      <td>Afghanistan</td>\n",
       "      <td>Mohammad Shahzad</td>\n",
       "      <td>110</td>\n",
       "      <td>99.09</td>\n",
       "      <td>2009-01-09</td>\n",
       "      <td>Tue</td>\n",
       "      <td>VRA Ground</td>\n",
       "      <td>Netherlands</td>\n",
       "      <td>../Matches/MatchScorecard_ODI.asp?MatchCode=3008</td>\n",
       "    </tr>\n",
       "    <tr>\n",
       "      <th>2</th>\n",
       "      <td>Afghanistan</td>\n",
       "      <td>Mohammad Shahzad</td>\n",
       "      <td>100</td>\n",
       "      <td>138.88</td>\n",
       "      <td>2010-08-16</td>\n",
       "      <td>Mon</td>\n",
       "      <td>Cambusdoon New Ground</td>\n",
       "      <td>Scotland</td>\n",
       "      <td>../Matches/MatchScorecard_ODI.asp?MatchCode=3164</td>\n",
       "    </tr>\n",
       "    <tr>\n",
       "      <th>3</th>\n",
       "      <td>Afghanistan</td>\n",
       "      <td>Mohammad Shahzad</td>\n",
       "      <td>82</td>\n",
       "      <td>75.92</td>\n",
       "      <td>2010-10-07</td>\n",
       "      <td>Sat</td>\n",
       "      <td>Hazelaarweg</td>\n",
       "      <td>Netherlands</td>\n",
       "      <td>../Matches/MatchScorecard_ODI.asp?MatchCode=3153</td>\n",
       "    </tr>\n",
       "    <tr>\n",
       "      <th>4</th>\n",
       "      <td>Afghanistan</td>\n",
       "      <td>Mohammad Shahzad</td>\n",
       "      <td>57</td>\n",
       "      <td>100.00</td>\n",
       "      <td>2010-01-07</td>\n",
       "      <td>Thu</td>\n",
       "      <td>Sportpark Westvliet</td>\n",
       "      <td>Canada</td>\n",
       "      <td>../Matches/MatchScorecard_ODI.asp?MatchCode=3135</td>\n",
       "    </tr>\n",
       "  </tbody>\n",
       "</table>\n",
       "</div>"
      ],
      "text/plain": [
       "       Country            Player  Runs  ScoreRate  MatchDate Weekday  \\\n",
       "0  Afghanistan  Mohammad Shahzad   118      97.52 2010-02-16     Tue   \n",
       "1  Afghanistan  Mohammad Shahzad   110      99.09 2009-01-09     Tue   \n",
       "2  Afghanistan  Mohammad Shahzad   100     138.88 2010-08-16     Mon   \n",
       "3  Afghanistan  Mohammad Shahzad    82      75.92 2010-10-07     Sat   \n",
       "4  Afghanistan  Mohammad Shahzad    57     100.00 2010-01-07     Thu   \n",
       "\n",
       "                  Ground       Versus  \\\n",
       "0     Sharjah CA Stadium       Canada   \n",
       "1             VRA Ground  Netherlands   \n",
       "2  Cambusdoon New Ground     Scotland   \n",
       "3            Hazelaarweg  Netherlands   \n",
       "4    Sportpark Westvliet       Canada   \n",
       "\n",
       "                                                URL  \n",
       "0  ../Matches/MatchScorecard_ODI.asp?MatchCode=3087  \n",
       "1  ../Matches/MatchScorecard_ODI.asp?MatchCode=3008  \n",
       "2  ../Matches/MatchScorecard_ODI.asp?MatchCode=3164  \n",
       "3  ../Matches/MatchScorecard_ODI.asp?MatchCode=3153  \n",
       "4  ../Matches/MatchScorecard_ODI.asp?MatchCode=3135  "
      ]
     },
     "execution_count": 25,
     "metadata": {},
     "output_type": "execute_result"
    }
   ],
   "source": [
    "data = pd.read_csv('/home/skathirmani/Desktop/datasets/odi-batting.csv')\n",
    "data.head()\n",
    "#data['run_rate'] = data['0']\n",
    "#del data['0']\n",
    "data['Player'] = data['Player'].fillna('NA')\n",
    "data.head()"
   ]
  },
  {
   "cell_type": "markdown",
   "metadata": {},
   "source": []
  },
  {
   "cell_type": "markdown",
   "metadata": {},
   "source": [
    "### Identify Dimension & Metrics\n",
    "\n",
    "* Once you have a understanding about what is each row is all about, next we should classify the columns in the data. We can identify what the dimension and metrics in our data. Dimensions are those columns using which we can perform grouping operations. Like countr, state, geography, departments, school names, etch. \n",
    "\n",
    "* Then we should identify the metrics columns. Metrics are basically the numeric columns in our data. Like sales revenue numbers, product volume numbers, ages, marks etc.,\n",
    "\n",
    "* Finally we should derive new metrics and dimensions from the existing column. For example we can derive age buckets from age column. And we can derive month, year, week number etc from date columns.\n",
    "\n",
    "#### Dimesions\n",
    "* Count of unique groups/items\n",
    "* which group/item is appering frequently and its count\n",
    "\n",
    "#### Metrics\n",
    "* Mean, Standard Deviation, Min, Max etc.,\n",
    "* Histogram of the metric column\n",
    "\n",
    "#### Derive metrics and dimensions\n",
    "* Date column: Year, month, day, day of the week, etc,\n",
    "* Age: Age groups\n",
    "* ..."
   ]
  },
  {
   "cell_type": "code",
   "execution_count": 26,
   "metadata": {
    "collapsed": false
   },
   "outputs": [
    {
     "name": "stdout",
     "output_type": "stream",
     "text": [
      "Dimensions:  set(['Versus', 'MatchDate', 'URL', 'Country', 'Player', 'Weekday', 'Ground'])\n",
      "Metric/Numeric Cols:  Index([u'Runs', u'ScoreRate'], dtype='object')\n"
     ]
    }
   ],
   "source": [
    "numeric_cols = data._get_numeric_data().columns\n",
    "dimensions = set(data.columns) - set(numeric_cols)\n",
    "data['MatchDate'] = pd.to_datetime(data['MatchDate']) # To derive year, month, day of the week, day of the month etc\n",
    "print 'Dimensions: ', dimensions\n",
    "print 'Metric/Numeric Cols: ', numeric_cols"
   ]
  },
  {
   "cell_type": "markdown",
   "metadata": {},
   "source": [
    "### Summary of the data\n",
    "Now that we know about what are the dimensions and metrics in our data, lets understand the values under each of these columns. `Pandas` has a very useful function called [describe()](http://pandas.pydata.org/pandas-docs/stable/generated/pandas.DataFrame.describe.html) which gives a summary view of the data. By default it describes only the numberic columns. Pass `include=all` to add the description of all the columns.\n",
    "\n",
    "From this functions I usually look for the following parameters\n",
    "* For each dimension, how many groups are there and which group is appearing very frequently. For example the below table says that for the dimension column `Country`, the top country is `India`. And `Sachin R Tendular` is the player who is appearing very frequently appearing in the `Player` column.\n",
    "* For each metric we can get an idea about the distribution of the columnby knowing the min, max and the percentile values."
   ]
  },
  {
   "cell_type": "code",
   "execution_count": 3,
   "metadata": {
    "collapsed": false
   },
   "outputs": [
    {
     "data": {
      "text/html": [
       "<div>\n",
       "<table border=\"1\" class=\"dataframe\">\n",
       "  <thead>\n",
       "    <tr style=\"text-align: right;\">\n",
       "      <th></th>\n",
       "      <th>Country</th>\n",
       "      <th>Player</th>\n",
       "      <th>Runs</th>\n",
       "      <th>MatchDate</th>\n",
       "      <th>Weekday</th>\n",
       "      <th>Ground</th>\n",
       "      <th>Versus</th>\n",
       "      <th>URL</th>\n",
       "      <th>run_rate</th>\n",
       "    </tr>\n",
       "  </thead>\n",
       "  <tbody>\n",
       "    <tr>\n",
       "      <th>count</th>\n",
       "      <td>55926</td>\n",
       "      <td>55926</td>\n",
       "      <td>55926.000000</td>\n",
       "      <td>55926</td>\n",
       "      <td>55926</td>\n",
       "      <td>55926</td>\n",
       "      <td>55926</td>\n",
       "      <td>55926</td>\n",
       "      <td>55926.000000</td>\n",
       "    </tr>\n",
       "    <tr>\n",
       "      <th>unique</th>\n",
       "      <td>22</td>\n",
       "      <td>1936</td>\n",
       "      <td>NaN</td>\n",
       "      <td>2757</td>\n",
       "      <td>7</td>\n",
       "      <td>178</td>\n",
       "      <td>25</td>\n",
       "      <td>3209</td>\n",
       "      <td>NaN</td>\n",
       "    </tr>\n",
       "    <tr>\n",
       "      <th>top</th>\n",
       "      <td>India</td>\n",
       "      <td>Sachin R Tendulkar</td>\n",
       "      <td>NaN</td>\n",
       "      <td>2007-04-02 00:00:00</td>\n",
       "      <td>Sun</td>\n",
       "      <td>Sharjah CA Stadium</td>\n",
       "      <td>Australia</td>\n",
       "      <td>../Matches/MatchScorecard_ODI.asp?MatchCode=1208</td>\n",
       "      <td>NaN</td>\n",
       "    </tr>\n",
       "    <tr>\n",
       "      <th>freq</th>\n",
       "      <td>6634</td>\n",
       "      <td>442</td>\n",
       "      <td>NaN</td>\n",
       "      <td>108</td>\n",
       "      <td>11427</td>\n",
       "      <td>3581</td>\n",
       "      <td>7216</td>\n",
       "      <td>22</td>\n",
       "      <td>NaN</td>\n",
       "    </tr>\n",
       "    <tr>\n",
       "      <th>first</th>\n",
       "      <td>NaN</td>\n",
       "      <td>NaN</td>\n",
       "      <td>NaN</td>\n",
       "      <td>1971-05-01 00:00:00</td>\n",
       "      <td>NaN</td>\n",
       "      <td>NaN</td>\n",
       "      <td>NaN</td>\n",
       "      <td>NaN</td>\n",
       "      <td>NaN</td>\n",
       "    </tr>\n",
       "    <tr>\n",
       "      <th>last</th>\n",
       "      <td>NaN</td>\n",
       "      <td>NaN</td>\n",
       "      <td>NaN</td>\n",
       "      <td>2011-12-09 00:00:00</td>\n",
       "      <td>NaN</td>\n",
       "      <td>NaN</td>\n",
       "      <td>NaN</td>\n",
       "      <td>NaN</td>\n",
       "      <td>NaN</td>\n",
       "    </tr>\n",
       "    <tr>\n",
       "      <th>mean</th>\n",
       "      <td>NaN</td>\n",
       "      <td>NaN</td>\n",
       "      <td>22.231073</td>\n",
       "      <td>NaN</td>\n",
       "      <td>NaN</td>\n",
       "      <td>NaN</td>\n",
       "      <td>NaN</td>\n",
       "      <td>NaN</td>\n",
       "      <td>65.283843</td>\n",
       "    </tr>\n",
       "    <tr>\n",
       "      <th>std</th>\n",
       "      <td>NaN</td>\n",
       "      <td>NaN</td>\n",
       "      <td>25.556919</td>\n",
       "      <td>NaN</td>\n",
       "      <td>NaN</td>\n",
       "      <td>NaN</td>\n",
       "      <td>NaN</td>\n",
       "      <td>NaN</td>\n",
       "      <td>44.225561</td>\n",
       "    </tr>\n",
       "    <tr>\n",
       "      <th>min</th>\n",
       "      <td>NaN</td>\n",
       "      <td>NaN</td>\n",
       "      <td>0.000000</td>\n",
       "      <td>NaN</td>\n",
       "      <td>NaN</td>\n",
       "      <td>NaN</td>\n",
       "      <td>NaN</td>\n",
       "      <td>NaN</td>\n",
       "      <td>0.000000</td>\n",
       "    </tr>\n",
       "    <tr>\n",
       "      <th>25%</th>\n",
       "      <td>NaN</td>\n",
       "      <td>NaN</td>\n",
       "      <td>4.000000</td>\n",
       "      <td>NaN</td>\n",
       "      <td>NaN</td>\n",
       "      <td>NaN</td>\n",
       "      <td>NaN</td>\n",
       "      <td>NaN</td>\n",
       "      <td>37.500000</td>\n",
       "    </tr>\n",
       "    <tr>\n",
       "      <th>50%</th>\n",
       "      <td>NaN</td>\n",
       "      <td>NaN</td>\n",
       "      <td>13.000000</td>\n",
       "      <td>NaN</td>\n",
       "      <td>NaN</td>\n",
       "      <td>NaN</td>\n",
       "      <td>NaN</td>\n",
       "      <td>NaN</td>\n",
       "      <td>62.545000</td>\n",
       "    </tr>\n",
       "    <tr>\n",
       "      <th>75%</th>\n",
       "      <td>NaN</td>\n",
       "      <td>NaN</td>\n",
       "      <td>32.000000</td>\n",
       "      <td>NaN</td>\n",
       "      <td>NaN</td>\n",
       "      <td>NaN</td>\n",
       "      <td>NaN</td>\n",
       "      <td>NaN</td>\n",
       "      <td>87.500000</td>\n",
       "    </tr>\n",
       "    <tr>\n",
       "      <th>max</th>\n",
       "      <td>NaN</td>\n",
       "      <td>NaN</td>\n",
       "      <td>200.000000</td>\n",
       "      <td>NaN</td>\n",
       "      <td>NaN</td>\n",
       "      <td>NaN</td>\n",
       "      <td>NaN</td>\n",
       "      <td>NaN</td>\n",
       "      <td>600.000000</td>\n",
       "    </tr>\n",
       "  </tbody>\n",
       "</table>\n",
       "</div>"
      ],
      "text/plain": [
       "       Country              Player          Runs            MatchDate Weekday  \\\n",
       "count    55926               55926  55926.000000                55926   55926   \n",
       "unique      22                1936           NaN                 2757       7   \n",
       "top      India  Sachin R Tendulkar           NaN  2007-04-02 00:00:00     Sun   \n",
       "freq      6634                 442           NaN                  108   11427   \n",
       "first      NaN                 NaN           NaN  1971-05-01 00:00:00     NaN   \n",
       "last       NaN                 NaN           NaN  2011-12-09 00:00:00     NaN   \n",
       "mean       NaN                 NaN     22.231073                  NaN     NaN   \n",
       "std        NaN                 NaN     25.556919                  NaN     NaN   \n",
       "min        NaN                 NaN      0.000000                  NaN     NaN   \n",
       "25%        NaN                 NaN      4.000000                  NaN     NaN   \n",
       "50%        NaN                 NaN     13.000000                  NaN     NaN   \n",
       "75%        NaN                 NaN     32.000000                  NaN     NaN   \n",
       "max        NaN                 NaN    200.000000                  NaN     NaN   \n",
       "\n",
       "                    Ground     Versus  \\\n",
       "count                55926      55926   \n",
       "unique                 178         25   \n",
       "top     Sharjah CA Stadium  Australia   \n",
       "freq                  3581       7216   \n",
       "first                  NaN        NaN   \n",
       "last                   NaN        NaN   \n",
       "mean                   NaN        NaN   \n",
       "std                    NaN        NaN   \n",
       "min                    NaN        NaN   \n",
       "25%                    NaN        NaN   \n",
       "50%                    NaN        NaN   \n",
       "75%                    NaN        NaN   \n",
       "max                    NaN        NaN   \n",
       "\n",
       "                                                     URL      run_rate  \n",
       "count                                              55926  55926.000000  \n",
       "unique                                              3209           NaN  \n",
       "top     ../Matches/MatchScorecard_ODI.asp?MatchCode=1208           NaN  \n",
       "freq                                                  22           NaN  \n",
       "first                                                NaN           NaN  \n",
       "last                                                 NaN           NaN  \n",
       "mean                                                 NaN     65.283843  \n",
       "std                                                  NaN     44.225561  \n",
       "min                                                  NaN      0.000000  \n",
       "25%                                                  NaN     37.500000  \n",
       "50%                                                  NaN     62.545000  \n",
       "75%                                                  NaN     87.500000  \n",
       "max                                                  NaN    600.000000  "
      ]
     },
     "execution_count": 3,
     "metadata": {},
     "output_type": "execute_result"
    }
   ],
   "source": [
    "data.describe(include='all')"
   ]
  },
  {
   "cell_type": "markdown",
   "metadata": {},
   "source": [
    "#### Insight No: 1\n",
    "From the above table I can get the following simple but useful insight\n",
    "    `Sachin R Tendular` from `India` has played more matches compared to any other player. And likely that he has played more matches against `Australia` in `Sharja CA Stadium` that too mostly on `Sunday`"
   ]
  },
  {
   "cell_type": "markdown",
   "metadata": {},
   "source": [
    "## Analyse Dimensions by just count\n",
    "Start with dimensions. For each dimensions look at how frequently each group in that column is appearing. In the following bar chart it tells that next to `Sachin R Tendular`, it is `Sanath T Jayasuriya` who is appearing frequently in the data. Not just that, he is almost appearing as frequent as `Sachin R Tendulkar`. "
   ]
  },
  {
   "cell_type": "code",
   "execution_count": 4,
   "metadata": {
    "collapsed": false
   },
   "outputs": [
    {
     "data": {
      "text/plain": [
       "<matplotlib.axes._subplots.AxesSubplot at 0x7f1fc86fe110>"
      ]
     },
     "execution_count": 4,
     "metadata": {},
     "output_type": "execute_result"
    },
    {
     "data": {
      "image/png": "[encoded data removed]",
      "text/plain": [
       "<matplotlib.figure.Figure at 0x7f1fc8752550>"
      ]
     },
     "metadata": {},
     "output_type": "display_data"
    }
   ],
   "source": [
    "data['Player'].value_counts().head(10).sort_values().plot(kind='barh',\n",
    "                                                          figsize=(10, 5),\n",
    "                                                          title='Frequency of each player')"
   ]
  },
  {
   "cell_type": "code",
   "execution_count": 5,
   "metadata": {
    "collapsed": false
   },
   "outputs": [
    {
     "data": {
      "text/plain": [
       "<matplotlib.axes._subplots.AxesSubplot at 0x7f1fc6152610>"
      ]
     },
     "execution_count": 5,
     "metadata": {},
     "output_type": "execute_result"
    },
    {
     "data": {
      "image/png": "[encoded data removed]",
      "text/plain": [
       "<matplotlib.figure.Figure at 0x7f1fc61b8d50>"
      ]
     },
     "metadata": {},
     "output_type": "display_data"
    }
   ],
   "source": [
    "data['Country'].value_counts().head(10).sort_values().plot(kind='barh',\n",
    "                                                           figsize=(10, 5),\n",
    "                                                           title='Frequency of each country')"
   ]
  },
  {
   "cell_type": "markdown",
   "metadata": {},
   "source": [
    "### Analyse Metrics\n",
    "\n",
    "After analysing the frequency count in each dimensions, time to checkout the numeric columns using histograms. The following histograms tells that most of the runs are scored between 0-25 approximately. "
   ]
  },
  {
   "cell_type": "code",
   "execution_count": 32,
   "metadata": {
    "collapsed": false
   },
   "outputs": [
    {
     "data": {
      "text/plain": [
       "<matplotlib.axes._subplots.AxesSubplot at 0x7f7c1bb9be10>"
      ]
     },
     "execution_count": 32,
     "metadata": {},
     "output_type": "execute_result"
    },
    {
     "data": {
      "image/png": "[encoded data removed]",
      "text/plain": [
       "<matplotlib.figure.Figure at 0x7f7c1bedab10>"
      ]
     },
     "metadata": {},
     "output_type": "display_data"
    }
   ],
   "source": [
    "data['Runs'].hist()"
   ]
  },
  {
   "cell_type": "markdown",
   "metadata": {},
   "source": [
    "### Create new dimensions\n",
    "As said earlier, we create new dimensions from existing dimensions or metrics. For example from the date column we can derive many dimensions as follows and look at the frequency count under each of these dimensions"
   ]
  },
  {
   "cell_type": "code",
   "execution_count": 7,
   "metadata": {
    "collapsed": false
   },
   "outputs": [
    {
     "data": {
      "text/plain": [
       "<matplotlib.axes._subplots.AxesSubplot at 0x7f1fc87137d0>"
      ]
     },
     "execution_count": 7,
     "metadata": {},
     "output_type": "execute_result"
    },
    {
     "data": {
      "image/png": "[encoded data removed]",
      "text/plain": [
       "<matplotlib.figure.Figure at 0x7f1fc5e0c810>"
      ]
     },
     "metadata": {},
     "output_type": "display_data"
    }
   ],
   "source": [
    "data['Year'] = data['MatchDate'].dt.year\n",
    "plot_data = data['Year'].value_counts().sort_index()\n",
    "my_colors = np.array(['b'] * len(plot_data))\n",
    "#my_colors[[4, 8, 12, 16, 21, 25, 28, 32, 36]] = 'b'\n",
    "plot_data.plot(kind='bar', figsize=(20, 5), color=my_colors)"
   ]
  },
  {
   "cell_type": "markdown",
   "metadata": {},
   "source": [
    "#### Insight number: 2\n",
    "* No. of matches are increasing year by year.\n",
    "* There are some peaks in between. If we have domain knowlege, we can answer for the question \"why are these peaks appearing?\"\n",
    "* If we closely observe, those are the years in which world cup was played\n",
    "* Also after 2007, the number of odi matches started decreasing. Once again if we have domain knowledge, we can understand that this is because of the IPL matches."
   ]
  },
  {
   "cell_type": "code",
   "execution_count": 10,
   "metadata": {
    "collapsed": false
   },
   "outputs": [
    {
     "data": {
      "text/plain": [
       "<matplotlib.axes._subplots.AxesSubplot at 0x7f1fc594fed0>"
      ]
     },
     "execution_count": 10,
     "metadata": {},
     "output_type": "execute_result"
    },
    {
     "data": {
      "image/png": "[encoded data removed]",
      "text/plain": [
       "<matplotlib.figure.Figure at 0x7f1fc5bd2d10>"
      ]
     },
     "metadata": {},
     "output_type": "display_data"
    }
   ],
   "source": [
    "data['Year'] = data['MatchDate'].dt.year\n",
    "plot_data = data['Year'].value_counts().sort_index()\n",
    "my_colors = np.array(['b'] * len(plot_data))\n",
    "my_colors[[4, 8, 12, 16, 21, 25, 28, 32, 36]] = 'r'\n",
    "plot_data.plot(kind='bar', figsize=(20, 5), color=my_colors)"
   ]
  },
  {
   "cell_type": "code",
   "execution_count": 12,
   "metadata": {
    "collapsed": false
   },
   "outputs": [
    {
     "data": {
      "text/plain": [
       "<matplotlib.axes._subplots.AxesSubplot at 0x7f1fc56cc050>"
      ]
     },
     "execution_count": 12,
     "metadata": {},
     "output_type": "execute_result"
    },
    {
     "data": {
      "image/png": "[encoded data removed]",
      "text/plain": [
       "<matplotlib.figure.Figure at 0x7f1fc57bed50>"
      ]
     },
     "metadata": {},
     "output_type": "display_data"
    }
   ],
   "source": [
    "data['Month'] = data['MatchDate'].dt.month\n",
    "plot_data = data['Month'].value_counts().sort_index()\n",
    "my_colors = np.array(['b'] * len(plot_data))\n",
    "my_colors[0] = 'r'\n",
    "plot_data.plot(kind='bar', figsize=(10, 5), color=my_colors)"
   ]
  },
  {
   "cell_type": "markdown",
   "metadata": {},
   "source": [
    "#### Insight No: 3\n",
    "* Most of the matches have been played in January"
   ]
  },
  {
   "cell_type": "code",
   "execution_count": 34,
   "metadata": {
    "collapsed": false
   },
   "outputs": [
    {
     "data": {
      "text/plain": [
       "<matplotlib.axes._subplots.AxesSubplot at 0x7f7c1be13bd0>"
      ]
     },
     "execution_count": 34,
     "metadata": {},
     "output_type": "execute_result"
    },
    {
     "data": {
      "image/png": "[encoded data removed]",
      "text/plain": [
       "<matplotlib.figure.Figure at 0x7f7c1be32a50>"
      ]
     },
     "metadata": {},
     "output_type": "display_data"
    }
   ],
   "source": [
    "data['Weekday'].value_counts().plot(kind='bar') #Sunday seems to have more number of matches"
   ]
  },
  {
   "cell_type": "code",
   "execution_count": 73,
   "metadata": {
    "collapsed": false
   },
   "outputs": [
    {
     "data": {
      "text/plain": [
       "<matplotlib.axes._subplots.AxesSubplot at 0x7fde2d420c90>"
      ]
     },
     "execution_count": 73,
     "metadata": {},
     "output_type": "execute_result"
    },
    {
     "data": {
      "image/png": "[encoded data removed]",
      "text/plain": [
       "<matplotlib.figure.Figure at 0x7fde28f41690>"
      ]
     },
     "metadata": {},
     "output_type": "display_data"
    }
   ],
   "source": [
    "plot_data_day = data['MatchDate'].dt.day.value_counts().sort_index()\n",
    "my_colors = ['b'] * len(plot_data_day)\n",
    "my_colors[4] = 'r'\n",
    "plot_data_day.plot(kind='bar', figsize=(20, 5), color=my_colors)"
   ]
  },
  {
   "cell_type": "markdown",
   "metadata": {},
   "source": [
    "#### Insight No: 4\n",
    "* For some reason, number of matches played on 5th of every month is very less"
   ]
  },
  {
   "cell_type": "markdown",
   "metadata": {},
   "source": [
    "# To be Added\n",
    "### Comparison\n",
    "Once we have analysed the dimension and metrics, we can start analysing the multiple dimensions and metrics together"
   ]
  },
  {
   "cell_type": "code",
   "execution_count": 36,
   "metadata": {
    "collapsed": false
   },
   "outputs": [
    {
     "data": {
      "text/html": [
       "<div>\n",
       "<table border=\"1\" class=\"dataframe\">\n",
       "  <thead>\n",
       "    <tr style=\"text-align: right;\">\n",
       "      <th></th>\n",
       "      <th>Runs</th>\n",
       "      <th>Strike Rate</th>\n",
       "    </tr>\n",
       "    <tr>\n",
       "      <th>Player</th>\n",
       "      <th></th>\n",
       "      <th></th>\n",
       "    </tr>\n",
       "  </thead>\n",
       "  <tbody>\n",
       "    <tr>\n",
       "      <th>Sachin R Tendulkar</th>\n",
       "      <td>18111</td>\n",
       "      <td>74.612127</td>\n",
       "    </tr>\n",
       "    <tr>\n",
       "      <th>Ricky T Ponting</th>\n",
       "      <td>13686</td>\n",
       "      <td>69.831194</td>\n",
       "    </tr>\n",
       "    <tr>\n",
       "      <th>Sanath T Jayasuriya</th>\n",
       "      <td>13430</td>\n",
       "      <td>77.577506</td>\n",
       "    </tr>\n",
       "    <tr>\n",
       "      <th>Inzamam-ul-Haq</th>\n",
       "      <td>11739</td>\n",
       "      <td>67.453114</td>\n",
       "    </tr>\n",
       "    <tr>\n",
       "      <th>Jacques H Kallis</th>\n",
       "      <td>11372</td>\n",
       "      <td>63.600858</td>\n",
       "    </tr>\n",
       "    <tr>\n",
       "      <th>Sourav C Ganguly</th>\n",
       "      <td>11363</td>\n",
       "      <td>64.900433</td>\n",
       "    </tr>\n",
       "    <tr>\n",
       "      <th>Rahul Dravid</th>\n",
       "      <td>10889</td>\n",
       "      <td>66.911604</td>\n",
       "    </tr>\n",
       "    <tr>\n",
       "      <th>Brian C Lara</th>\n",
       "      <td>10405</td>\n",
       "      <td>70.718304</td>\n",
       "    </tr>\n",
       "    <tr>\n",
       "      <th>D P Mahela Jayawardene</th>\n",
       "      <td>9913</td>\n",
       "      <td>65.058697</td>\n",
       "    </tr>\n",
       "    <tr>\n",
       "      <th>Mohammad Yousuf</th>\n",
       "      <td>9720</td>\n",
       "      <td>67.173297</td>\n",
       "    </tr>\n",
       "  </tbody>\n",
       "</table>\n",
       "</div>"
      ],
      "text/plain": [
       "                         Runs  Strike Rate\n",
       "Player                                    \n",
       "Sachin R Tendulkar      18111    74.612127\n",
       "Ricky T Ponting         13686    69.831194\n",
       "Sanath T Jayasuriya     13430    77.577506\n",
       "Inzamam-ul-Haq          11739    67.453114\n",
       "Jacques H Kallis        11372    63.600858\n",
       "Sourav C Ganguly        11363    64.900433\n",
       "Rahul Dravid            10889    66.911604\n",
       "Brian C Lara            10405    70.718304\n",
       "D P Mahela Jayawardene   9913    65.058697\n",
       "Mohammad Yousuf          9720    67.173297"
      ]
     },
     "execution_count": 36,
     "metadata": {},
     "output_type": "execute_result"
    }
   ],
   "source": [
    "player = pd.DataFrame(data.groupby(['Player'])['Runs'].sum().sort_values(ascending=False))\n",
    "player['Strike Rate'] = data.groupby(['Player'])['ScoreRate'].mean()\n",
    "player.head(10)"
   ]
  }
 ],
 "metadata": {
  "kernelspec": {
   "display_name": "Python 2",
   "language": "python",
   "name": "python2"
  },
  "language_info": {
   "codemirror_mode": {
    "name": "ipython",
    "version": 2
   },
   "file_extension": ".py",
   "mimetype": "text/x-python",
   "name": "python",
   "nbconvert_exporter": "python",
   "pygments_lexer": "ipython2",
   "version": "2.7.11"
  }
 },
 "nbformat": 4,
 "nbformat_minor": 0
}
