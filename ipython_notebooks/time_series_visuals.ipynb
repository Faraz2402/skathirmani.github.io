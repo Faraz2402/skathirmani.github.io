{
 "cells": [
  {
   "cell_type": "markdown",
   "metadata": {},
   "source": [
    "# Visualizing a time series data\n",
    "\n",
    "As you might know, time series is a collection of values which are ordered in time. Inorder to understand and interpret the time series data, by default we use to plot a XY line chart. In this article, I am trying to get various analysis that are possible with a simple time series. By analysis I mean only descriptive analysis. I am not going to touch any predictive analytics here. This is an on going article, hence please do visit again"
   ]
  },
  {
   "cell_type": "code",
   "execution_count": null,
   "metadata": {
    "collapsed": true
   },
   "outputs": [],
   "source": []
  }
 ],
 "metadata": {
  "kernelspec": {
   "display_name": "Python [Root]",
   "language": "python",
   "name": "Python [Root]"
  },
  "language_info": {
   "codemirror_mode": {
    "name": "ipython",
    "version": 2
   },
   "file_extension": ".py",
   "mimetype": "text/x-python",
   "name": "python",
   "nbconvert_exporter": "python",
   "pygments_lexer": "ipython2",
   "version": "2.7.11"
  }
 },
 "nbformat": 4,
 "nbformat_minor": 0
}
