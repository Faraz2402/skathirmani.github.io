{
 "metadata": {
  "name": "",
  "signature": "sha256:41024eab28f20380f699d26d6ff046c65b6a7566df27395251ac0d2f69cdc0ef"
 },
 "nbformat": 3,
 "nbformat_minor": 0,
 "worksheets": []
}